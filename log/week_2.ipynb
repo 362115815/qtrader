{
 "cells": [
  {
   "cell_type": "markdown",
   "metadata": {
    "slideshow": {
     "slide_type": "slide"
    }
   },
   "source": [
    "# Week 2\n",
    "\n",
    "**`Agent::API::base`**\n",
    "* `fit` method\n",
    "* private API (agent-specific)\n",
    "* public API (environment runner friendly)\n",
    "\n",
    "**`Environment::API::runner`**\n",
    "* fixed agent API\n",
    "* multiple episodes"
   ]
  },
  {
   "cell_type": "code",
   "execution_count": 1,
   "metadata": {
    "slideshow": {
     "slide_type": "skip"
    }
   },
   "outputs": [
    {
     "name": "stdout",
     "output_type": "stream",
     "text": [
      "/Users/alpha/Developer/qtrader\n"
     ]
    }
   ],
   "source": [
    "# change current working directory\n",
    "%cd .."
   ]
  },
  {
   "cell_type": "code",
   "execution_count": 2,
   "metadata": {
    "slideshow": {
     "slide_type": "skip"
    }
   },
   "outputs": [],
   "source": [
    "# suppress warning messages\n",
    "import warnings\n",
    "warnings.filterwarnings('ignore')\n",
    "\n",
    "# trading environment\n",
    "from qtrader.envs import TradingEnv\n",
    "# machine floating-point relative accuracy\n",
    "from qtrader.utils.numpy import eps\n",
    "\n",
    "# YAML parser\n",
    "import yaml\n",
    "\n",
    "# # scientific programming\n",
    "# import numpy as np\n",
    "# import pandas as pd\n",
    "\n",
    "# # visualization\n",
    "# import matplotlib.pyplot as plt\n",
    "# import seaborn as sns"
   ]
  },
  {
   "cell_type": "code",
   "execution_count": 3,
   "metadata": {
    "slideshow": {
     "slide_type": "skip"
    }
   },
   "outputs": [
    {
     "name": "stdout",
     "output_type": "stream",
     "text": [
      "start date: 2015-01-01\n",
      "trading frequency: W-FRI\n",
      "trading universe: ['AAPL', 'GE', 'JPM', 'MSFT', 'VOD', 'GS', 'TSLA', 'MMM']\n"
     ]
    }
   ],
   "source": [
    "# fetch configuration file\n",
    "config = yaml.load(open('config/log/week_2.yaml', 'r'))\n",
    "\n",
    "# configuration summary\n",
    "print(f\"start date: {config['start_date']}\")\n",
    "print(f\"trading frequency: {config['freq']}\")\n",
    "print(f\"trading universe: {config['tickers']}\")"
   ]
  },
  {
   "cell_type": "markdown",
   "metadata": {
    "slideshow": {
     "slide_type": "skip"
    }
   },
   "source": [
    "### Trading Environment\n",
    "\n",
    "Initialize a trading environment, with which the agents will interact."
   ]
  },
  {
   "cell_type": "code",
   "execution_count": 4,
   "metadata": {
    "slideshow": {
     "slide_type": "skip"
    }
   },
   "outputs": [],
   "source": [
    "# initialize environment\n",
    "env = TradingEnv(universe=config['tickers'],\n",
    "                 trading_period=config['freq'],\n",
    "                 csv=config['csv_file_prices'])"
   ]
  }
 ],
 "metadata": {
  "celltoolbar": "Slideshow",
  "kernelspec": {
   "display_name": "qtrader",
   "language": "python",
   "name": "qtrader"
  },
  "language_info": {
   "codemirror_mode": {
    "name": "ipython",
    "version": 3
   },
   "file_extension": ".py",
   "mimetype": "text/x-python",
   "name": "python",
   "nbconvert_exporter": "python",
   "pygments_lexer": "ipython3",
   "version": "3.6.5"
  }
 },
 "nbformat": 4,
 "nbformat_minor": 2
}
