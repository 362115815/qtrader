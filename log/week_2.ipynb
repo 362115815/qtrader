{
 "cells": [
  {
   "cell_type": "markdown",
   "metadata": {},
   "source": [
    "# Week 2\n",
    "\n",
    "* **Trading Periods**: fix trading periods\n",
    "* **Pre-Training**: `tangency-portfolio` sharpe ratio with transaction costs\n",
    "* **Project**: folder structure refinements"
   ]
  },
  {
   "cell_type": "code",
   "execution_count": 1,
   "metadata": {},
   "outputs": [
    {
     "name": "stderr",
     "output_type": "stream",
     "text": [
      "/Users/alpha/Developer/qtrader/.env/lib/python3.6/site-packages/statsmodels/compat/pandas.py:56: FutureWarning: The pandas.core.datetools module is deprecated and will be removed in a future version. Please use the pandas.tseries module instead.\n",
      "  from pandas.core import datetools\n",
      "Using TensorFlow backend.\n"
     ]
    }
   ],
   "source": [
    "import qtrader\n",
    "\n",
    "import datetime\n",
    "\n",
    "import numpy as np\n",
    "\n",
    "from keras.models import Model\n",
    "from keras.layers import Input\n",
    "from keras.layers import Flatten\n",
    "from keras.layers import Dense\n",
    "\n",
    "import matplotlib.pyplot as plt\n",
    "import seaborn as sns\n",
    "\n",
    "plt.style.use('seaborn-muted')\n",
    "plt.style.use('seaborn-ticks')\n",
    "plt.style.use('seaborn-poster')\n",
    "\n",
    "import warnings\n",
    "warnings.filterwarnings('ignore')"
   ]
  },
  {
   "cell_type": "markdown",
   "metadata": {},
   "source": [
    "### Data Source"
   ]
  },
  {
   "cell_type": "code",
   "execution_count": null,
   "metadata": {},
   "outputs": [],
   "source": [
    "# three-years window\n",
    "start_date = datetime.date.today() - datetime.timedelta(days=3*365)\n",
    "\n",
    "# trading period\n",
    "freq = 'W'\n",
    "\n",
    "# stock tickers\n",
    "TICKERS = ['AAPL', 'GE', 'JPM', 'GOOG', 'MSFT', 'VOD', 'GS', 'TSLA']\n",
    "\n",
    "# prices\n",
    "prices = qtrader.envs.data_loader.Finance.Prices(tickers=TICKERS,\n",
    "                                                 source='quandl',\n",
    "                                                 start_date=start_date,\n",
    "                                                 freq=freq)\n",
    "\n",
    "# returns\n",
    "returns = qtrader.envs.data_loader.Finance.Returns(tickers=TICKERS,\n",
    "                                                   source='quandl',\n",
    "                                                   start_date=start_date,\n",
    "                                                   freq=freq)\n",
    "\n",
    "# log-returns\n",
    "rhos = np.log(1 + returns)"
   ]
  },
  {
   "cell_type": "markdown",
   "metadata": {},
   "source": [
    "## Tangency Portfolio with Transaction Costs\n",
    "\n",
    "Determine portfolio vector $\\mathbf{w}$, such that:\n",
    "\n",
    "\\begin{aligned}\n",
    "& \\underset{\\mathbf{w}}{\\text{maximize}}\n",
    "& & \\frac{\\mathbf{w}^{T} \\mathbf{r}}{\\sqrt{\\mathbf{w}^{T} \\boldsymbol{\\Sigma} \\mathbf{w}}} -\n",
    "    \\mathbf{1}^{T} \\gamma \\|(\\mathbf{w_{0}} - \\mathbf{w})\\| & \\text{ (utility function) } \\\\\n",
    "& \\text{subject to}\n",
    "& & \\mathbf{w}^{T} \\mathbf{1} = 1 & \\text{ (budget constraint) } \\\\\n",
    "&\n",
    "& & \n",
    "\\end{aligned}\n",
    "\n",
    "where:\n",
    "\n",
    "* $M$: number of assets in portfolio\n",
    "* $\\gamma \\geq 0$: transaction costs coefficient\n",
    "* $\\boldsymbol{\\Sigma} \\in \\mathbb{R}^{M \\times M}$: portfolio returns covariance\n",
    "* $\\mathbf{r} \\in \\mathbb{R}^{M}$: portfolio returns mean\n",
    "* $\\mathbf{w_{0}} \\mathbb{R}^{M}$: initial portfolio weights"
   ]
  },
  {
   "cell_type": "markdown",
   "metadata": {},
   "source": [
    "### Dataset Generation\n",
    "\n",
    "Generate $(\\mathbf{X}_{i}, \\mathbf{w}_{i})$ pairs such that:\n",
    "\n",
    "\\begin{aligned}\n",
    "    \\mathbf{w}_{i} = \\mathtt{tangency\\_portfolio}(\\mathbf{X}_{i}, \\mathbf{w_{0}})\n",
    "\\end{aligned}\n",
    "\n",
    "where:\n",
    "\n",
    "* $M$: number of assets in portfolio\n",
    "* $T$: window size\n",
    "* $\\mathbf{X}_{i} \\in \\mathbb{R}^{T \\times M}$: returns data\n",
    "* $\\mathbf{w}_{i} \\mathbb{R}^{M}$: tangency portfolio vector\n",
    "* $\\mathbf{w_{0}} \\mathbb{R}^{M}$: initial portfolio weights"
   ]
  },
  {
   "cell_type": "code",
   "execution_count": null,
   "metadata": {},
   "outputs": [],
   "source": [
    "# objective function\n",
    "J = qtrader.agents.pretrainer.objectives.sharpe_ratio\n",
    "\n",
    "# hyperparmeters\n",
    "gamma = 0.5\n",
    "window = 15\n",
    "\n",
    "# dataset generator\n",
    "X, w = qtrader.agents.pretrainer.generator(\n",
    "    100, returns, qtrader.agents.pretrainer.optimizer(J, gamma), window)"
   ]
  },
  {
   "cell_type": "markdown",
   "metadata": {},
   "source": [
    "### Agent"
   ]
  },
  {
   "cell_type": "code",
   "execution_count": null,
   "metadata": {},
   "outputs": [],
   "source": [
    "# input layer\n",
    "FC_X = Input(shape=(window, X.shape[-1]), name=\"X\")\n",
    "# flatten\n",
    "FC_Flatten = Flatten()(FC_X)\n",
    "# affine\n",
    "FC_Dense1 = Dense(16, name=\"Dense1\")(FC_Flatten)\n",
    "# affine\n",
    "FC_Dense2 = Dense(32, name=\"Dense2\")(FC_Dense1)\n",
    "# affine\n",
    "FC_w = Dense(w.shape[-1], name=\"w\")(FC_Dense2)\n",
    "\n",
    "# agent model\n",
    "FC = Model(inputs=FC_X, outputs=FC_w)\n",
    "# Compile Graph\n",
    "FC.compile(optimizer='rmsprop',\n",
    "              loss='mse')\n",
    "# Computational Graph Summary\n",
    "FC.summary()"
   ]
  },
  {
   "cell_type": "code",
   "execution_count": null,
   "metadata": {},
   "outputs": [],
   "source": [
    "# model training\n",
    "history = FC.fit(X, w, epochs=100, validation_split=0.25, verbose=0)"
   ]
  },
  {
   "cell_type": "code",
   "execution_count": null,
   "metadata": {},
   "outputs": [],
   "source": [
    "fig, axes = plt.subplots(ncols=2, sharey=True, figsize=(18.0, 6.0))\n",
    "axes[0].plot(history.history['loss'])\n",
    "\n",
    "axes[0].set_title('Learning Curves: Training Error')\n",
    "axes[0].set_xlabel('Number Epochs')\n",
    "axes[0].set_ylabel('Mean Squared Error')\n",
    "\n",
    "axes[1].plot(history.history['val_loss'])\n",
    "\n",
    "axes[1].set_title('Learning Curves: Validation Error')\n",
    "axes[1].set_xlabel('Number Epochs');"
   ]
  }
 ],
 "metadata": {
  "kernelspec": {
   "display_name": "Python 3",
   "language": "python",
   "name": "python3"
  },
  "language_info": {
   "codemirror_mode": {
    "name": "ipython",
    "version": 3
   },
   "file_extension": ".py",
   "mimetype": "text/x-python",
   "name": "python",
   "nbconvert_exporter": "python",
   "pygments_lexer": "ipython3",
   "version": "3.6.5"
  }
 },
 "nbformat": 4,
 "nbformat_minor": 2
}
