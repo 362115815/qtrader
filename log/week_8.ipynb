{
 "cells": [
  {
   "cell_type": "code",
   "execution_count": 1,
   "metadata": {
    "slideshow": {
     "slide_type": "skip"
    }
   },
   "outputs": [
    {
     "name": "stdout",
     "output_type": "stream",
     "text": [
      "/Users/alpha/Developer/qtrader\n"
     ]
    }
   ],
   "source": [
    "# change current working directory\n",
    "%cd .."
   ]
  },
  {
   "cell_type": "markdown",
   "metadata": {
    "slideshow": {
     "slide_type": "slide"
    }
   },
   "source": [
    "# Week 8\n",
    "\n",
    "Market Simulation\n",
    "* **Moments**: evaluation criterion\n",
    "* **Arbitrage**: evaluation criterion\n",
    "* **`VAE`**: vanilla variational autoencoder architecure\n",
    "* **`GAN`**: vanilla generative adversarial network"
   ]
  },
  {
   "cell_type": "code",
   "execution_count": null,
   "metadata": {
    "slideshow": {
     "slide_type": "skip"
    }
   },
   "outputs": [],
   "source": [
    "import qtrader\n",
    "# simulation tests\n",
    "from qtrader.simulation.tests import Arbitrage, Moments\n",
    "\n",
    "import yaml\n",
    "\n",
    "import numpy as np\n",
    "\n",
    "import matplotlib.pyplot as plt\n",
    "import matplotlib as mpl\n",
    "mpl.use('TKAgg')\n",
    "\n",
    "import warnings\n",
    "warnings.filterwarnings('ignore')\n",
    "\n",
    "np.random.seed(0)"
   ]
  },
  {
   "cell_type": "code",
   "execution_count": null,
   "metadata": {
    "slideshow": {
     "slide_type": "skip"
    }
   },
   "outputs": [],
   "source": [
    "# fetch configuration file\n",
    "config = yaml.load(open('config/simulation.yaml', 'r'))"
   ]
  },
  {
   "cell_type": "markdown",
   "metadata": {
    "slideshow": {
     "slide_type": "skip"
    }
   },
   "source": [
    "## Data Source"
   ]
  },
  {
   "cell_type": "code",
   "execution_count": null,
   "metadata": {
    "slideshow": {
     "slide_type": "skip"
    }
   },
   "outputs": [],
   "source": [
    "# original returns time-series\n",
    "try:\n",
    "    # use cached CSV file\n",
    "    returns = qtrader.envs.data_loader.Finance.Returns(\n",
    "        config['tickers'], start_date=config['start_date'], csv=config['csv_file_returns'])\n",
    "except:\n",
    "    # download data\n",
    "    returns = qtrader.envs.data_loader.Finance.Returns(\n",
    "        config['tickers'], start_date=config['start_date'])\n",
    "    # cache to CSV file\n",
    "    returns.to_csv(config['csv_file_returns'])"
   ]
  },
  {
   "cell_type": "code",
   "execution_count": null,
   "metadata": {
    "slideshow": {
     "slide_type": "skip"
    }
   },
   "outputs": [],
   "source": [
    "# remove infinities and NaN values\n",
    "returns = qtrader.utils.pandas.clean(returns)"
   ]
  },
  {
   "cell_type": "markdown",
   "metadata": {
    "slideshow": {
     "slide_type": "skip"
    }
   },
   "source": [
    "## `AAFT` Simulation"
   ]
  },
  {
   "cell_type": "code",
   "execution_count": null,
   "metadata": {
    "slideshow": {
     "slide_type": "skip"
    }
   },
   "outputs": [],
   "source": [
    "# generated returns time-series\n",
    "returns_gen = qtrader.simulation.AAFT(\n",
    "    returns, random=np.random.normal, random_state=13)"
   ]
  },
  {
   "cell_type": "markdown",
   "metadata": {
    "slideshow": {
     "slide_type": "skip"
    }
   },
   "source": [
    "## `VAE` Simulation"
   ]
  },
  {
   "cell_type": "code",
   "execution_count": null,
   "metadata": {
    "slideshow": {
     "slide_type": "skip"
    }
   },
   "outputs": [],
   "source": [
    "# VAE-friendly data\n",
    "returns_vae = qtrader.utils.rolling2d(\n",
    "    returns.values, config['window'])\n",
    "# get dimensions\n",
    "num_samples, timesteps, input_dim = returns_vae.shape\n",
    "# initialize model\n",
    "vae, encoder, generator = qtrader.contrib.generators.VAE(input_dim,\n",
    "                                                         timesteps=timesteps,\n",
    "                                                         batch_size=config['batch_size'],\n",
    "                                                         intermediate_dim=config['intermediate_dim'],\n",
    "                                                         latent_dim=config['latent_dim'],\n",
    "                                                         epsilon_std=1.)"
   ]
  },
  {
   "cell_type": "code",
   "execution_count": null,
   "metadata": {
    "slideshow": {
     "slide_type": "skip"
    }
   },
   "outputs": [],
   "source": [
    "# fit model\n",
    "vae.fit(returns_vae, returns_vae, epochs=config['num_epochs'], verbose=0);"
   ]
  },
  {
   "cell_type": "code",
   "execution_count": null,
   "metadata": {
    "slideshow": {
     "slide_type": "skip"
    }
   },
   "outputs": [],
   "source": [
    "# latent variable\n",
    "mu = np.zeros(config['latent_dim'])\n",
    "Sigma = np.diag(np.ones(config['latent_dim']))\n",
    "Z = np.random.multivariate_normal(mu, Sigma, config['num_samples'])\n",
    "# generate data\n",
    "returns_vae_gen = generator.predict(Z, batch_size=config['batch_size'])[:, -1, :]"
   ]
  },
  {
   "cell_type": "markdown",
   "metadata": {
    "slideshow": {
     "slide_type": "slide"
    }
   },
   "source": [
    "## Tests\n",
    "\n",
    "Evaluation metrics for simulated data, comparison basis for generative models."
   ]
  },
  {
   "cell_type": "markdown",
   "metadata": {
    "slideshow": {
     "slide_type": "slide"
    }
   },
   "source": [
    "### Moments\n",
    "\n"
   ]
  },
  {
   "cell_type": "code",
   "execution_count": null,
   "metadata": {
    "slideshow": {
     "slide_type": "subslide"
    }
   },
   "outputs": [],
   "source": [
    "Moments.run(returns, returns_gen, render=True)"
   ]
  },
  {
   "cell_type": "markdown",
   "metadata": {
    "slideshow": {
     "slide_type": "slide"
    }
   },
   "source": [
    "### Statistical Arbitrage\n",
    "\n"
   ]
  },
  {
   "cell_type": "code",
   "execution_count": null,
   "metadata": {
    "slideshow": {
     "slide_type": "subslide"
    }
   },
   "outputs": [],
   "source": [
    "Arbitrage.run(returns, returns_gen,\n",
    "              config['tickers'], config['freq'], config['window'], render=True)"
   ]
  }
 ],
 "metadata": {
  "celltoolbar": "Slideshow",
  "kernelspec": {
   "display_name": "qtrader",
   "language": "python",
   "name": "qtrader"
  },
  "language_info": {
   "codemirror_mode": {
    "name": "ipython",
    "version": 3
   },
   "file_extension": ".py",
   "mimetype": "text/x-python",
   "name": "python",
   "nbconvert_exporter": "python",
   "pygments_lexer": "ipython3",
   "version": "3.6.5"
  }
 },
 "nbformat": 4,
 "nbformat_minor": 2
}
